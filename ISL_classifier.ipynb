{
  "cells": [
    {
      "cell_type": "code",
      "execution_count": 21,
      "metadata": {
        "id": "JIOzYKNkOh1t"
      },
      "outputs": [],
      "source": [
        "import pandas as pd\n",
        "import numpy as np\n",
        "import matplotlib.pyplot as plt\n",
        "import tensorflow as tf\n",
        "from tensorflow import keras\n",
        "from tensorflow.keras import layers\n",
        "from sklearn.model_selection import train_test_split\n",
        "from sklearn.preprocessing import LabelEncoder\n",
        "from sklearn.metrics import accuracy_score, precision_score, recall_score, f1_score\n",
        "\n"
      ]
    },
    {
      "cell_type": "code",
      "execution_count": 22,
      "metadata": {
        "id": "4on_iLLLO87q"
      },
      "outputs": [
        {
          "name": "stderr",
          "output_type": "stream",
          "text": [
            "C:\\Users\\potiv\\AppData\\Local\\Temp\\ipykernel_17380\\2815074641.py:1: DtypeWarning: Columns (0) have mixed types. Specify dtype option on import or set low_memory=False.\n",
            "  data = pd.read_csv('keypoint.csv',header=None)\n"
          ]
        }
      ],
      "source": [
        "data = pd.read_csv('keypoint.csv',header=None)"
      ]
    },
    {
      "cell_type": "code",
      "execution_count": 23,
      "metadata": {
        "id": "QfkE0RZmguGd"
      },
      "outputs": [],
      "source": [
        "data[0] = data[0].astype(str)"
      ]
    },
    {
      "cell_type": "code",
      "execution_count": 24,
      "metadata": {
        "colab": {
          "base_uri": "https://localhost:8080/"
        },
        "id": "SyrM0MDTPiGl",
        "outputId": "7189ea03-20f9-4519-d555-84d46e4f2794"
      },
      "outputs": [
        {
          "data": {
            "text/plain": [
              "array(['A', 'B', 'C', 'D', 'E', 'F', 'G', 'H', 'I', 'J', 'K', 'L', 'M',\n",
              "       'N', 'O', 'P', 'Q', 'R', 'S', 'T', 'U', 'V', 'W', 'X', 'Y', 'Z',\n",
              "       '1', '2', '3', '4', '5', '6', '7', '8', '9'], dtype=object)"
            ]
          },
          "execution_count": 24,
          "metadata": {},
          "output_type": "execute_result"
        }
      ],
      "source": [
        "data[0].unique()"
      ]
    },
    {
      "cell_type": "code",
      "execution_count": 25,
      "metadata": {
        "colab": {
          "base_uri": "https://localhost:8080/",
          "height": 487
        },
        "id": "OC5TcyT9U63v",
        "outputId": "a07aab43-c24a-40da-a50e-eef9f04f4f4d"
      },
      "outputs": [
        {
          "data": {
            "text/html": [
              "<div>\n",
              "<style scoped>\n",
              "    .dataframe tbody tr th:only-of-type {\n",
              "        vertical-align: middle;\n",
              "    }\n",
              "\n",
              "    .dataframe tbody tr th {\n",
              "        vertical-align: top;\n",
              "    }\n",
              "\n",
              "    .dataframe thead th {\n",
              "        text-align: right;\n",
              "    }\n",
              "</style>\n",
              "<table border=\"1\" class=\"dataframe\">\n",
              "  <thead>\n",
              "    <tr style=\"text-align: right;\">\n",
              "      <th></th>\n",
              "      <th>1</th>\n",
              "      <th>2</th>\n",
              "      <th>3</th>\n",
              "      <th>4</th>\n",
              "      <th>5</th>\n",
              "      <th>6</th>\n",
              "      <th>7</th>\n",
              "      <th>8</th>\n",
              "      <th>9</th>\n",
              "      <th>10</th>\n",
              "      <th>...</th>\n",
              "      <th>33</th>\n",
              "      <th>34</th>\n",
              "      <th>35</th>\n",
              "      <th>36</th>\n",
              "      <th>37</th>\n",
              "      <th>38</th>\n",
              "      <th>39</th>\n",
              "      <th>40</th>\n",
              "      <th>41</th>\n",
              "      <th>42</th>\n",
              "    </tr>\n",
              "  </thead>\n",
              "  <tbody>\n",
              "    <tr>\n",
              "      <th>0</th>\n",
              "      <td>0.0</td>\n",
              "      <td>0.0</td>\n",
              "      <td>0.315789</td>\n",
              "      <td>-0.184211</td>\n",
              "      <td>0.657895</td>\n",
              "      <td>-0.421053</td>\n",
              "      <td>0.842105</td>\n",
              "      <td>-0.631579</td>\n",
              "      <td>1.000000</td>\n",
              "      <td>-0.868421</td>\n",
              "      <td>...</td>\n",
              "      <td>0.263158</td>\n",
              "      <td>0.105263</td>\n",
              "      <td>-0.078947</td>\n",
              "      <td>0.052632</td>\n",
              "      <td>0.210526</td>\n",
              "      <td>0.315789</td>\n",
              "      <td>0.157895</td>\n",
              "      <td>0.315789</td>\n",
              "      <td>0.052632</td>\n",
              "      <td>0.236842</td>\n",
              "    </tr>\n",
              "    <tr>\n",
              "      <th>1</th>\n",
              "      <td>0.0</td>\n",
              "      <td>0.0</td>\n",
              "      <td>-0.272727</td>\n",
              "      <td>-0.204545</td>\n",
              "      <td>-0.590909</td>\n",
              "      <td>-0.386364</td>\n",
              "      <td>-0.818182</td>\n",
              "      <td>-0.522727</td>\n",
              "      <td>-1.000000</td>\n",
              "      <td>-0.704545</td>\n",
              "      <td>...</td>\n",
              "      <td>-0.363636</td>\n",
              "      <td>0.136364</td>\n",
              "      <td>-0.068182</td>\n",
              "      <td>0.090909</td>\n",
              "      <td>-0.431818</td>\n",
              "      <td>0.272727</td>\n",
              "      <td>-0.363636</td>\n",
              "      <td>0.295455</td>\n",
              "      <td>-0.250000</td>\n",
              "      <td>0.250000</td>\n",
              "    </tr>\n",
              "    <tr>\n",
              "      <th>2</th>\n",
              "      <td>0.0</td>\n",
              "      <td>0.0</td>\n",
              "      <td>0.289474</td>\n",
              "      <td>-0.184211</td>\n",
              "      <td>0.631579</td>\n",
              "      <td>-0.394737</td>\n",
              "      <td>0.842105</td>\n",
              "      <td>-0.605263</td>\n",
              "      <td>1.000000</td>\n",
              "      <td>-0.842105</td>\n",
              "      <td>...</td>\n",
              "      <td>0.210526</td>\n",
              "      <td>0.131579</td>\n",
              "      <td>-0.105263</td>\n",
              "      <td>0.078947</td>\n",
              "      <td>0.157895</td>\n",
              "      <td>0.368421</td>\n",
              "      <td>0.105263</td>\n",
              "      <td>0.342105</td>\n",
              "      <td>0.000000</td>\n",
              "      <td>0.263158</td>\n",
              "    </tr>\n",
              "    <tr>\n",
              "      <th>3</th>\n",
              "      <td>0.0</td>\n",
              "      <td>0.0</td>\n",
              "      <td>-0.295455</td>\n",
              "      <td>-0.204545</td>\n",
              "      <td>-0.590909</td>\n",
              "      <td>-0.409091</td>\n",
              "      <td>-0.818182</td>\n",
              "      <td>-0.545455</td>\n",
              "      <td>-1.000000</td>\n",
              "      <td>-0.727273</td>\n",
              "      <td>...</td>\n",
              "      <td>-0.363636</td>\n",
              "      <td>0.090909</td>\n",
              "      <td>-0.090909</td>\n",
              "      <td>0.068182</td>\n",
              "      <td>-0.431818</td>\n",
              "      <td>0.250000</td>\n",
              "      <td>-0.363636</td>\n",
              "      <td>0.272727</td>\n",
              "      <td>-0.227273</td>\n",
              "      <td>0.204545</td>\n",
              "    </tr>\n",
              "    <tr>\n",
              "      <th>4</th>\n",
              "      <td>0.0</td>\n",
              "      <td>0.0</td>\n",
              "      <td>0.315789</td>\n",
              "      <td>-0.210526</td>\n",
              "      <td>0.631579</td>\n",
              "      <td>-0.394737</td>\n",
              "      <td>0.842105</td>\n",
              "      <td>-0.605263</td>\n",
              "      <td>1.000000</td>\n",
              "      <td>-0.842105</td>\n",
              "      <td>...</td>\n",
              "      <td>0.236842</td>\n",
              "      <td>0.131579</td>\n",
              "      <td>-0.105263</td>\n",
              "      <td>0.078947</td>\n",
              "      <td>0.184211</td>\n",
              "      <td>0.342105</td>\n",
              "      <td>0.131579</td>\n",
              "      <td>0.315789</td>\n",
              "      <td>0.026316</td>\n",
              "      <td>0.236842</td>\n",
              "    </tr>\n",
              "    <tr>\n",
              "      <th>...</th>\n",
              "      <td>...</td>\n",
              "      <td>...</td>\n",
              "      <td>...</td>\n",
              "      <td>...</td>\n",
              "      <td>...</td>\n",
              "      <td>...</td>\n",
              "      <td>...</td>\n",
              "      <td>...</td>\n",
              "      <td>...</td>\n",
              "      <td>...</td>\n",
              "      <td>...</td>\n",
              "      <td>...</td>\n",
              "      <td>...</td>\n",
              "      <td>...</td>\n",
              "      <td>...</td>\n",
              "      <td>...</td>\n",
              "      <td>...</td>\n",
              "      <td>...</td>\n",
              "      <td>...</td>\n",
              "      <td>...</td>\n",
              "      <td>...</td>\n",
              "    </tr>\n",
              "    <tr>\n",
              "      <th>57610</th>\n",
              "      <td>0.0</td>\n",
              "      <td>0.0</td>\n",
              "      <td>0.189189</td>\n",
              "      <td>0.256757</td>\n",
              "      <td>0.527027</td>\n",
              "      <td>0.405405</td>\n",
              "      <td>0.756757</td>\n",
              "      <td>0.527027</td>\n",
              "      <td>0.918919</td>\n",
              "      <td>0.689189</td>\n",
              "      <td>...</td>\n",
              "      <td>0.527027</td>\n",
              "      <td>-0.202703</td>\n",
              "      <td>0.540541</td>\n",
              "      <td>-0.500000</td>\n",
              "      <td>0.756757</td>\n",
              "      <td>-0.635135</td>\n",
              "      <td>0.675676</td>\n",
              "      <td>-0.500000</td>\n",
              "      <td>0.621622</td>\n",
              "      <td>-0.405405</td>\n",
              "    </tr>\n",
              "    <tr>\n",
              "      <th>57611</th>\n",
              "      <td>0.0</td>\n",
              "      <td>0.0</td>\n",
              "      <td>0.189189</td>\n",
              "      <td>0.270270</td>\n",
              "      <td>0.513514</td>\n",
              "      <td>0.418919</td>\n",
              "      <td>0.756757</td>\n",
              "      <td>0.540541</td>\n",
              "      <td>0.918919</td>\n",
              "      <td>0.689189</td>\n",
              "      <td>...</td>\n",
              "      <td>0.527027</td>\n",
              "      <td>-0.189189</td>\n",
              "      <td>0.540541</td>\n",
              "      <td>-0.486486</td>\n",
              "      <td>0.756757</td>\n",
              "      <td>-0.635135</td>\n",
              "      <td>0.675676</td>\n",
              "      <td>-0.500000</td>\n",
              "      <td>0.621622</td>\n",
              "      <td>-0.391892</td>\n",
              "    </tr>\n",
              "    <tr>\n",
              "      <th>57612</th>\n",
              "      <td>0.0</td>\n",
              "      <td>0.0</td>\n",
              "      <td>0.189189</td>\n",
              "      <td>0.283784</td>\n",
              "      <td>0.513514</td>\n",
              "      <td>0.432432</td>\n",
              "      <td>0.756757</td>\n",
              "      <td>0.554054</td>\n",
              "      <td>0.918919</td>\n",
              "      <td>0.689189</td>\n",
              "      <td>...</td>\n",
              "      <td>0.527027</td>\n",
              "      <td>-0.202703</td>\n",
              "      <td>0.540541</td>\n",
              "      <td>-0.486486</td>\n",
              "      <td>0.756757</td>\n",
              "      <td>-0.621622</td>\n",
              "      <td>0.675676</td>\n",
              "      <td>-0.486486</td>\n",
              "      <td>0.621622</td>\n",
              "      <td>-0.378378</td>\n",
              "    </tr>\n",
              "    <tr>\n",
              "      <th>57613</th>\n",
              "      <td>0.0</td>\n",
              "      <td>0.0</td>\n",
              "      <td>0.202703</td>\n",
              "      <td>0.256757</td>\n",
              "      <td>0.513514</td>\n",
              "      <td>0.405405</td>\n",
              "      <td>0.756757</td>\n",
              "      <td>0.540541</td>\n",
              "      <td>0.918919</td>\n",
              "      <td>0.675676</td>\n",
              "      <td>...</td>\n",
              "      <td>0.527027</td>\n",
              "      <td>-0.202703</td>\n",
              "      <td>0.527027</td>\n",
              "      <td>-0.486486</td>\n",
              "      <td>0.743243</td>\n",
              "      <td>-0.608108</td>\n",
              "      <td>0.675676</td>\n",
              "      <td>-0.500000</td>\n",
              "      <td>0.635135</td>\n",
              "      <td>-0.391892</td>\n",
              "    </tr>\n",
              "    <tr>\n",
              "      <th>57614</th>\n",
              "      <td>0.0</td>\n",
              "      <td>0.0</td>\n",
              "      <td>0.202703</td>\n",
              "      <td>0.256757</td>\n",
              "      <td>0.500000</td>\n",
              "      <td>0.405405</td>\n",
              "      <td>0.743243</td>\n",
              "      <td>0.540541</td>\n",
              "      <td>0.905405</td>\n",
              "      <td>0.675676</td>\n",
              "      <td>...</td>\n",
              "      <td>0.527027</td>\n",
              "      <td>-0.202703</td>\n",
              "      <td>0.527027</td>\n",
              "      <td>-0.486486</td>\n",
              "      <td>0.743243</td>\n",
              "      <td>-0.621622</td>\n",
              "      <td>0.675676</td>\n",
              "      <td>-0.500000</td>\n",
              "      <td>0.621622</td>\n",
              "      <td>-0.391892</td>\n",
              "    </tr>\n",
              "  </tbody>\n",
              "</table>\n",
              "<p>57615 rows × 42 columns</p>\n",
              "</div>"
            ],
            "text/plain": [
              "        1    2         3         4         5         6         7         8   \\\n",
              "0      0.0  0.0  0.315789 -0.184211  0.657895 -0.421053  0.842105 -0.631579   \n",
              "1      0.0  0.0 -0.272727 -0.204545 -0.590909 -0.386364 -0.818182 -0.522727   \n",
              "2      0.0  0.0  0.289474 -0.184211  0.631579 -0.394737  0.842105 -0.605263   \n",
              "3      0.0  0.0 -0.295455 -0.204545 -0.590909 -0.409091 -0.818182 -0.545455   \n",
              "4      0.0  0.0  0.315789 -0.210526  0.631579 -0.394737  0.842105 -0.605263   \n",
              "...    ...  ...       ...       ...       ...       ...       ...       ...   \n",
              "57610  0.0  0.0  0.189189  0.256757  0.527027  0.405405  0.756757  0.527027   \n",
              "57611  0.0  0.0  0.189189  0.270270  0.513514  0.418919  0.756757  0.540541   \n",
              "57612  0.0  0.0  0.189189  0.283784  0.513514  0.432432  0.756757  0.554054   \n",
              "57613  0.0  0.0  0.202703  0.256757  0.513514  0.405405  0.756757  0.540541   \n",
              "57614  0.0  0.0  0.202703  0.256757  0.500000  0.405405  0.743243  0.540541   \n",
              "\n",
              "             9         10  ...        33        34        35        36  \\\n",
              "0      1.000000 -0.868421  ...  0.263158  0.105263 -0.078947  0.052632   \n",
              "1     -1.000000 -0.704545  ... -0.363636  0.136364 -0.068182  0.090909   \n",
              "2      1.000000 -0.842105  ...  0.210526  0.131579 -0.105263  0.078947   \n",
              "3     -1.000000 -0.727273  ... -0.363636  0.090909 -0.090909  0.068182   \n",
              "4      1.000000 -0.842105  ...  0.236842  0.131579 -0.105263  0.078947   \n",
              "...         ...       ...  ...       ...       ...       ...       ...   \n",
              "57610  0.918919  0.689189  ...  0.527027 -0.202703  0.540541 -0.500000   \n",
              "57611  0.918919  0.689189  ...  0.527027 -0.189189  0.540541 -0.486486   \n",
              "57612  0.918919  0.689189  ...  0.527027 -0.202703  0.540541 -0.486486   \n",
              "57613  0.918919  0.675676  ...  0.527027 -0.202703  0.527027 -0.486486   \n",
              "57614  0.905405  0.675676  ...  0.527027 -0.202703  0.527027 -0.486486   \n",
              "\n",
              "             37        38        39        40        41        42  \n",
              "0      0.210526  0.315789  0.157895  0.315789  0.052632  0.236842  \n",
              "1     -0.431818  0.272727 -0.363636  0.295455 -0.250000  0.250000  \n",
              "2      0.157895  0.368421  0.105263  0.342105  0.000000  0.263158  \n",
              "3     -0.431818  0.250000 -0.363636  0.272727 -0.227273  0.204545  \n",
              "4      0.184211  0.342105  0.131579  0.315789  0.026316  0.236842  \n",
              "...         ...       ...       ...       ...       ...       ...  \n",
              "57610  0.756757 -0.635135  0.675676 -0.500000  0.621622 -0.405405  \n",
              "57611  0.756757 -0.635135  0.675676 -0.500000  0.621622 -0.391892  \n",
              "57612  0.756757 -0.621622  0.675676 -0.486486  0.621622 -0.378378  \n",
              "57613  0.743243 -0.608108  0.675676 -0.500000  0.635135 -0.391892  \n",
              "57614  0.743243 -0.621622  0.675676 -0.500000  0.621622 -0.391892  \n",
              "\n",
              "[57615 rows x 42 columns]"
            ]
          },
          "execution_count": 25,
          "metadata": {},
          "output_type": "execute_result"
        }
      ],
      "source": [
        "X = data.iloc[:,1:]\n",
        "X"
      ]
    },
    {
      "cell_type": "code",
      "execution_count": 26,
      "metadata": {
        "id": "C6Fev9pFNPA4"
      },
      "outputs": [],
      "source": [
        "enc = LabelEncoder()"
      ]
    },
    {
      "cell_type": "code",
      "execution_count": 27,
      "metadata": {
        "colab": {
          "base_uri": "https://localhost:8080/"
        },
        "id": "GptfpfFZQ859",
        "outputId": "d8dcef55-f4b7-4b8b-adfb-2066770dd343"
      },
      "outputs": [
        {
          "name": "stderr",
          "output_type": "stream",
          "text": [
            "c:\\Users\\potiv\\AppData\\Local\\Programs\\Python\\Python311\\Lib\\site-packages\\sklearn\\preprocessing\\_label.py:114: DataConversionWarning: A column-vector y was passed when a 1d array was expected. Please change the shape of y to (n_samples, ), for example using ravel().\n",
            "  y = column_or_1d(y, warn=True)\n"
          ]
        },
        {
          "data": {
            "text/plain": [
              "array([9, 9, 9, ..., 8, 8, 8])"
            ]
          },
          "execution_count": 27,
          "metadata": {},
          "output_type": "execute_result"
        }
      ],
      "source": [
        "y = enc.fit_transform(data[[0]])\n",
        "y"
      ]
    },
    {
      "cell_type": "code",
      "execution_count": 28,
      "metadata": {
        "colab": {
          "base_uri": "https://localhost:8080/"
        },
        "id": "mXeK_Oh3lSGo",
        "outputId": "fd14d294-df98-4171-e4e1-da13d0c98ada"
      },
      "outputs": [
        {
          "name": "stdout",
          "output_type": "stream",
          "text": [
            "[9 9 9 ... 8 8 8]\n"
          ]
        }
      ],
      "source": [
        "print(y)"
      ]
    },
    {
      "cell_type": "code",
      "execution_count": 29,
      "metadata": {
        "id": "-725RwgrSiLh"
      },
      "outputs": [],
      "source": [
        "from keras.callbacks import EarlyStopping\n",
        "es = EarlyStopping(monitor='val_loss', mode='min', verbose=1, patience=2)"
      ]
    },
    {
      "cell_type": "code",
      "execution_count": 30,
      "metadata": {
        "id": "MoP6X2dFXtaq"
      },
      "outputs": [],
      "source": [
        "X_train, X_test, y_train, y_test = train_test_split(\n",
        "    X, y, test_size=0.2, random_state=42)"
      ]
    },
    {
      "cell_type": "code",
      "execution_count": 31,
      "metadata": {
        "id": "fwYKKiYKUDMp"
      },
      "outputs": [],
      "source": [
        "model = keras.Sequential([\n",
        "    layers.Dense(1470, activation='relu'),\n",
        "    layers.Dropout(0.5),\n",
        "    layers.Dense(832, activation='relu'),\n",
        "    layers.Dropout(0.5),\n",
        "    layers.Dense(428, activation='relu'),\n",
        "    layers.Dropout(0.5),\n",
        "    layers.Dense(264, activation='relu'),\n",
        "    layers.Dropout(0.5),\n",
        "    layers.Dense(35, activation='softmax')\n",
        "])"
      ]
    },
    {
      "cell_type": "code",
      "execution_count": 32,
      "metadata": {
        "id": "RZKhTkEfYd6i"
      },
      "outputs": [],
      "source": [
        "model.compile(loss = \"sparse_categorical_crossentropy\", optimizer = \"adam\", metrics=[\"accuracy\"])"
      ]
    },
    {
      "cell_type": "code",
      "execution_count": 37,
      "metadata": {
        "colab": {
          "base_uri": "https://localhost:8080/"
        },
        "id": "mLfTS486YqiG",
        "outputId": "4465dc13-0e94-4a54-d1b5-bb4c84e82635"
      },
      "outputs": [
        {
          "name": "stdout",
          "output_type": "stream",
          "text": [
            "Epoch 1/50\n",
            "289/289 [==============================] - 6s 22ms/step - loss: 0.0684 - accuracy: 0.9769 - val_loss: 0.0276 - val_accuracy: 0.9918\n",
            "Epoch 2/50\n",
            "289/289 [==============================] - 6s 21ms/step - loss: 0.0680 - accuracy: 0.9768 - val_loss: 0.0226 - val_accuracy: 0.9922\n",
            "Epoch 3/50\n",
            "289/289 [==============================] - 6s 21ms/step - loss: 0.0616 - accuracy: 0.9796 - val_loss: 0.0256 - val_accuracy: 0.9905\n",
            "Epoch 4/50\n",
            "289/289 [==============================] - 6s 21ms/step - loss: 0.0587 - accuracy: 0.9811 - val_loss: 0.0261 - val_accuracy: 0.9912\n",
            "Epoch 4: early stopping\n"
          ]
        },
        {
          "data": {
            "text/plain": [
              "<keras.callbacks.History at 0x217f8da6650>"
            ]
          },
          "execution_count": 37,
          "metadata": {},
          "output_type": "execute_result"
        }
      ],
      "source": [
        "model.fit(X_train, y_train, epochs = 50, batch_size = 128, validation_split = 0.2, callbacks=[es])"
      ]
    },
    {
      "cell_type": "code",
      "execution_count": 38,
      "metadata": {
        "colab": {
          "base_uri": "https://localhost:8080/"
        },
        "id": "APJrH5DCZPVz",
        "outputId": "e76defc1-3779-4590-ffc8-b2de65864047"
      },
      "outputs": [
        {
          "data": {
            "text/plain": [
              "[0.038674432784318924, 0.9884578585624695]"
            ]
          },
          "execution_count": 38,
          "metadata": {},
          "output_type": "execute_result"
        }
      ],
      "source": [
        "model.evaluate(X_test, y_test, verbose = 0)"
      ]
    },
    {
      "cell_type": "code",
      "execution_count": 39,
      "metadata": {
        "colab": {
          "base_uri": "https://localhost:8080/"
        },
        "id": "PMScXAuychzn",
        "outputId": "421238f9-dbfb-4be5-bad7-da5fdbf9dce9"
      },
      "outputs": [
        {
          "name": "stdout",
          "output_type": "stream",
          "text": [
            "361/361 [==============================] - 1s 3ms/step\n",
            "Accuracy: 0.9884578668749457\n",
            "Precision: 0.9905242696249221\n",
            "Recall: 0.9848777485250849\n",
            "F1-score: 0.9868631755743329\n"
          ]
        }
      ],
      "source": [
        "# evaluate the model on the validation set and compute performance metrics\n",
        "y_val_pred = model.predict(X_test)\n",
        "y_val_pred_classes = np.argmax(y_val_pred, axis=1)\n",
        "acc = accuracy_score(y_test, y_val_pred_classes)\n",
        "prec = precision_score(y_test, y_val_pred_classes, average='macro')\n",
        "rec = recall_score(y_test, y_val_pred_classes, average='macro')\n",
        "f1 = f1_score(y_test, y_val_pred_classes, average='macro')\n",
        "print(\"Accuracy:\", acc)\n",
        "print(\"Precision:\", prec)\n",
        "print(\"Recall:\", rec)\n",
        "print(\"F1-score:\", f1)"
      ]
    },
    {
      "cell_type": "code",
      "execution_count": 36,
      "metadata": {
        "id": "yphwMRARaZVL"
      },
      "outputs": [],
      "source": [
        "model.save(\"model.h5\")"
      ]
    }
  ],
  "metadata": {
    "colab": {
      "provenance": []
    },
    "kernelspec": {
      "display_name": "Python 3",
      "name": "python3"
    },
    "language_info": {
      "codemirror_mode": {
        "name": "ipython",
        "version": 3
      },
      "file_extension": ".py",
      "mimetype": "text/x-python",
      "name": "python",
      "nbconvert_exporter": "python",
      "pygments_lexer": "ipython3",
      "version": "3.11.2"
    }
  },
  "nbformat": 4,
  "nbformat_minor": 0
}
